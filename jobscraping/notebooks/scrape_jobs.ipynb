{
 "cells": [
  {
   "cell_type": "markdown",
   "id": "d160207e",
   "metadata": {},
   "source": [
    "# Run all "
   ]
  },
  {
   "cell_type": "code",
   "execution_count": 2,
   "id": "3bb21c9b",
   "metadata": {},
   "outputs": [
    {
     "name": "stdout",
     "output_type": "stream",
     "text": [
      "Afry > Response: 200\n",
      "Afry > Nmr of scraped adds: 77\n",
      "Afry > Parsing bronze data: 0\n",
      "Aliant > Response: 200\n",
      "Aliant > Nmr of scraped adds: 10\n",
      "Aliant > Parsing bronze data: 0\n",
      "A Society > Response: 200\n",
      "A Society > Nmr of scraped adds: 112\n",
      "A Society > Parsing bronze data: 4\n",
      "Combitech > Response: 200\n",
      "Combitech > Nmr of scraped adds: 35\n",
      "Combitech > Parsing bronze data: 1\n",
      "Emagine > Response: 200\n",
      "Emagine > Nmr of scraped adds: 46\n",
      "Emagine > Parsing bronze data: 1\n",
      "Ework > Response: 200\n",
      "Ework > Nmr of scraped adds: 85\n",
      "Ework > Parsing bronze data: 11\n",
      "Nikita > Response: 200\n",
      "Nikita > Nmr of scraped adds: 20\n",
      "Nikita > Parsing bronze data: 4\n",
      "Regent > Response: 200\n",
      "Regent > Nmr of scraped adds: 32\n",
      "Regent > Parsing bronze data: 0\n",
      "Upgraded > Response: 200\n",
      "Upgraded > Nmr of scraped adds: 73\n",
      "Upgraded > Parsing bronze data: 6\n",
      "Total number of new added jobs: 27\n",
      "Total number of new added jobs_payloads: 27\n"
     ]
    }
   ],
   "source": [
    "import sys, os\n",
    "import pandas as pd\n",
    "sys.path.append(os.path.abspath(os.path.join(os.getcwd(), \"..\"))) # lägg till training i path\n",
    "from src.data_loader import load_local_data, unload_local_data, load_local_dict, unload_local_dict\n",
    "from src.scrapers.abstract_scraper import AbstractScraper\n",
    "from src.scrapers.afry_scraper import AfryScraper\n",
    "from src.scrapers.aliant_scraper import AliantScraper\n",
    "from src.scrapers.asociety_scraper import ASocietyScraper\n",
    "from src.scrapers.combitech_scraper import CombitechScraper\n",
    "from src.scrapers.emagine_scraper import EmagineScraper\n",
    "from src.scrapers.ework_scraper import EworkScraper\n",
    "from src.scrapers.nikita_scraper import NikitaScraper\n",
    "from src.scrapers.regent_scraper import RegentScraper\n",
    "from src.scrapers.upgraded_scraper import UpgradedScraper\n",
    "\n",
    "nr_payload_pre = len(load_local_dict())\n",
    "nr_ads_pre = len(pd.read_csv('../data/bronze/jobs.csv'))\n",
    "\n",
    "scrapers = [AfryScraper(), AliantScraper(), ASocietyScraper(), CombitechScraper(), EmagineScraper(), EworkScraper(), NikitaScraper(), RegentScraper(), UpgradedScraper()]\n",
    "#scrapers = [UpgradedScraper()]\n",
    "\n",
    "for s in scrapers:\n",
    "    response = s.request_status()\n",
    "    scraped_payload_dict = s.return_raw_job_posts_data(response)\n",
    "    old_payload_dict = load_local_dict()\n",
    "    old_bronze_data = load_local_data()\n",
    "    \n",
    "    new_payload_dict = s.return_new_ads(new_dict=scraped_payload_dict, old_dict=old_payload_dict)\n",
    "    new_bronze_data = s.parse_bronze_data(new_payload_dict)\n",
    "\n",
    "    updated_payload_dict = s.concat_dicts(new_payload_dict, old_payload_dict)\n",
    "    updated_bronze_data = s.concat_new_rows(new_bronze_data, old_bronze_data)\n",
    "    unload_local_dict(updated_payload_dict)\n",
    "    unload_local_data(updated_bronze_data)\n",
    "\n",
    "\n",
    "nr_payload_post = len(load_local_dict())\n",
    "nr_ads_post = len(pd.read_csv('../data/bronze/jobs.csv'))\n",
    "print('Total number of new added jobs:', nr_ads_post-nr_ads_pre)\n",
    "print('Total number of new added jobs_payloads:', nr_payload_post-nr_payload_pre)\n"
   ]
  },
  {
   "cell_type": "markdown",
   "id": "76dfcd43",
   "metadata": {},
   "source": [
    "## Load bronze table "
   ]
  },
  {
   "cell_type": "code",
   "execution_count": null,
   "id": "008c614d",
   "metadata": {},
   "outputs": [],
   "source": [
    "import pandas as pd\n",
    "from src.data_loader import load_local_data, unload_local_data\n",
    "bronze_data = load_local_data()\n"
   ]
  }
 ],
 "metadata": {
  "kernelspec": {
   "display_name": "Python (my-ml-project)",
   "language": "python",
   "name": "my-ml-project"
  },
  "language_info": {
   "codemirror_mode": {
    "name": "ipython",
    "version": 3
   },
   "file_extension": ".py",
   "mimetype": "text/x-python",
   "name": "python",
   "nbconvert_exporter": "python",
   "pygments_lexer": "ipython3",
   "version": "3.13.7"
  }
 },
 "nbformat": 4,
 "nbformat_minor": 5
}
