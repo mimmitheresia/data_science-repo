{
 "cells": [
  {
   "cell_type": "code",
   "execution_count": 5,
   "id": "3d7aaac6",
   "metadata": {},
   "outputs": [
    {
     "name": "stdout",
     "output_type": "stream",
     "text": [
      "number of ads: 693\n"
     ]
    }
   ],
   "source": [
    "import sys, os\n",
    "sys.path.append(os.path.abspath(os.path.join(os.getcwd(), \"..\"))) # lägg till training i path\n",
    "from IPython.display import display, HTML\n",
    "import pandas as pd\n",
    "from src.data_loader import load_local_data, unload_local_data\n",
    "\n",
    "bronze_data = load_local_data()\n",
    "print('number of ads:', len(bronze_data))\n",
    "df_jobs = bronze_data[['site', 'job_title', 'area', 'work_location','ingestion_ts', 'link']].sort_values(by='ingestion_ts', ascending=False)\n",
    "df_jobs[\"title_link\"] = df_jobs.apply(\n",
    "        lambda x: f'<a href=\"{x[\"link\"]}\" target=\"_blank\">{x[\"job_title\"]}</a>', axis=1\n",
    "    )"
   ]
  },
  {
   "cell_type": "code",
   "execution_count": 6,
   "id": "97bdc8c9",
   "metadata": {},
   "outputs": [
    {
     "data": {
      "application/vnd.jupyter.widget-view+json": {
       "model_id": "ff139ab893e947b0a5a0a63ca813b720",
       "version_major": 2,
       "version_minor": 0
      },
      "text/plain": [
       "HBox(children=(Checkbox(value=False, description='Analytiker'), Checkbox(value=False, description='Analys'), C…"
      ]
     },
     "metadata": {},
     "output_type": "display_data"
    },
    {
     "data": {
      "application/vnd.jupyter.widget-view+json": {
       "model_id": "bd5d40205bb44b63b382731da67aec5f",
       "version_major": 2,
       "version_minor": 0
      },
      "text/plain": [
       "Output()"
      ]
     },
     "metadata": {},
     "output_type": "display_data"
    }
   ],
   "source": [
    "import pandas as pd\n",
    "import ipywidgets as widgets\n",
    "from IPython.display import display, clear_output, HTML\n",
    "\n",
    "# Function to render the HTML table with clickable job_title\n",
    "def return_styled_jobs_table(data):\n",
    "    df_display = data[[\"site\", \"title_link\", \"work_location\", \"ingestion_ts\"]]\n",
    "    html_table = df_display.to_html(escape=False, index=False)\n",
    "    styled_html = f\"\"\"\n",
    "    <style>\n",
    "        td:nth-child(2), th:nth-child(2) {{\n",
    "            text-align: left !important;\n",
    "        }}\n",
    "    </style>\n",
    "    {html_table}\n",
    "    \"\"\"\n",
    "    return HTML(styled_html)\n",
    "\n",
    "# Filtering function\n",
    "def filter_table(change=None):\n",
    "    with output:\n",
    "        clear_output()\n",
    "        # Selected keywords from checkboxes\n",
    "        selected = [cb.description for cb in checkboxes if cb.value]\n",
    "        # Add custom keyword if present\n",
    "        if custom_keyword.value.strip():\n",
    "            selected.append(custom_keyword.value.strip())\n",
    "        \n",
    "        if not selected:\n",
    "            display(return_styled_jobs_table(df_jobs))\n",
    "        else:\n",
    "            mask = df_jobs['job_title'].str.contains('|'.join(selected), case=False, na=False)\n",
    "            display(return_styled_jobs_table(df_jobs[mask]))\n",
    "\n",
    "\n",
    "\n",
    "keywords_list = [\"Analytiker\", \"Analys\", \"Bi\", \"Data\", \"ML\", \"Machine Learning\", \"Business Intelligence\"] # Predefined keywords\n",
    "checkboxes = [widgets.Checkbox(value=False, description=kw) for kw in keywords_list] # Create checkbox per keyword\n",
    "\n",
    "# Text-widget for custom keyword\n",
    "custom_keyword = widgets.Text(\n",
    "    value='',\n",
    "    placeholder='Skriv eget keyword här',\n",
    "    description='Eget keyword:',\n",
    "    style={'description_width': 'initial'},\n",
    "    layout=widgets.Layout(width='300px')\n",
    ")\n",
    "\n",
    "# Connect onchange events\n",
    "for cb in checkboxes:\n",
    "    cb.observe(filter_table, 'value')\n",
    "custom_keyword.observe(filter_table, 'value')\n",
    "\n",
    "# Display controls\n",
    "output = widgets.Output()\n",
    "controls = widgets.HBox(checkboxes + [custom_keyword])\n",
    "display(controls, output)\n",
    "\n",
    "# Display full table initially\n",
    "filter_table()\n"
   ]
  }
 ],
 "metadata": {
  "kernelspec": {
   "display_name": "Python (my-ml-project)",
   "language": "python",
   "name": "my-ml-project"
  },
  "language_info": {
   "codemirror_mode": {
    "name": "ipython",
    "version": 3
   },
   "file_extension": ".py",
   "mimetype": "text/x-python",
   "name": "python",
   "nbconvert_exporter": "python",
   "pygments_lexer": "ipython3",
   "version": "3.13.7"
  }
 },
 "nbformat": 4,
 "nbformat_minor": 5
}
