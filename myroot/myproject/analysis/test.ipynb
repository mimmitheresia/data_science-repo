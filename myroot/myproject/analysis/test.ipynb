{
 "cells": [
  {
   "cell_type": "code",
   "execution_count": 15,
   "metadata": {},
   "outputs": [
    {
     "name": "stdout",
     "output_type": "stream",
     "text": [
      "in /analysis/test.py\n",
      "reading local data\n",
      "initiating LinearAdjuster\n",
      "creating scorebins\n",
      "pd\n",
      "plot\n"
     ]
    }
   ],
   "source": [
    "#from myproject.src.linear_adjuster import LinearAdjuster call: LinearAdjuster()\n",
    "from myproject.src import linear_adjuster as model # call: model.LinearAdjuster()\n",
    "from myproject.src import data_handler\n",
    "from myproject.src import linear_adjuster\n",
    "from myproject.src import plots\n",
    "\n",
    "\n",
    "def run():\n",
    "    print('in /analysis/test.py')\n",
    "    data_handler.read_local_data()\n",
    "    la = model.LinearAdjuster()\n",
    "    plots.plot()\n",
    "\n",
    "run()"
   ]
  }
 ],
 "metadata": {
  "kernelspec": {
   "display_name": "venv",
   "language": "python",
   "name": "python3"
  },
  "language_info": {
   "codemirror_mode": {
    "name": "ipython",
    "version": 3
   },
   "file_extension": ".py",
   "mimetype": "text/x-python",
   "name": "python",
   "nbconvert_exporter": "python",
   "pygments_lexer": "ipython3",
   "version": "3.9.6"
  },
  "orig_nbformat": 4
 },
 "nbformat": 4,
 "nbformat_minor": 2
}
