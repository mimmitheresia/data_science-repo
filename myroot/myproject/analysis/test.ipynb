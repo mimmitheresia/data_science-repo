{
 "cells": [
  {
   "cell_type": "code",
   "execution_count": 6,
   "metadata": {},
   "outputs": [
    {
     "ename": "ModuleNotFoundError",
     "evalue": "No module named 'myproject'",
     "output_type": "error",
     "traceback": [
      "\u001b[0;31m---------------------------------------------------------------------------\u001b[0m",
      "\u001b[0;31mModuleNotFoundError\u001b[0m                       Traceback (most recent call last)",
      "Cell \u001b[0;32mIn[6], line 2\u001b[0m\n\u001b[1;32m      1\u001b[0m \u001b[39m#from myproject.src.linear_adjuster import LinearAdjuster call: LinearAdjuster()\u001b[39;00m\n\u001b[0;32m----> 2\u001b[0m \u001b[39mfrom\u001b[39;00m \u001b[39mmyproject\u001b[39;00m\u001b[39m.\u001b[39;00m\u001b[39msrc\u001b[39;00m \u001b[39mimport\u001b[39;00m linear_adjuster \u001b[39mas\u001b[39;00m model \u001b[39m# call: model.LinearAdjuster()\u001b[39;00m\n\u001b[1;32m      3\u001b[0m \u001b[39mfrom\u001b[39;00m \u001b[39mmyproject\u001b[39;00m\u001b[39m.\u001b[39;00m\u001b[39msrc\u001b[39;00m \u001b[39mimport\u001b[39;00m data_handler\n\u001b[1;32m      4\u001b[0m \u001b[39mfrom\u001b[39;00m \u001b[39mmyproject\u001b[39;00m\u001b[39m.\u001b[39;00m\u001b[39msrc\u001b[39;00m \u001b[39mimport\u001b[39;00m linear_adjuster\n",
      "\u001b[0;31mModuleNotFoundError\u001b[0m: No module named 'myproject'"
     ]
    }
   ],
   "source": [
    "#from myproject.src.linear_adjuster import LinearAdjuster call: LinearAdjuster()\n",
    "from myproject.src import linear_adjuster as model # call: model.LinearAdjuster()\n",
    "from myproject.src import data_handler\n",
    "from myproject.src import linear_adjuster\n",
    "from myproject.src import plots\n",
    "\n",
    "\n",
    "def run():\n",
    "    print('in /analysis/test.py')\n",
    "    data_handler.read_local_data()\n",
    "    la = model.LinearAdjuster()\n",
    "    plots.plot()\n",
    "\n",
    "run()"
   ]
  }
 ],
 "metadata": {
  "kernelspec": {
   "display_name": "venv",
   "language": "python",
   "name": "python3"
  },
  "language_info": {
   "codemirror_mode": {
    "name": "ipython",
    "version": 3
   },
   "file_extension": ".py",
   "mimetype": "text/x-python",
   "name": "python",
   "nbconvert_exporter": "python",
   "pygments_lexer": "ipython3",
   "version": "3.9.6"
  },
  "orig_nbformat": 4
 },
 "nbformat": 4,
 "nbformat_minor": 2
}
