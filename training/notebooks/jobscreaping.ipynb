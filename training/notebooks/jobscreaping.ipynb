{
 "cells": [
  {
   "cell_type": "code",
   "execution_count": 14,
   "id": "2c1c3db4",
   "metadata": {},
   "outputs": [
    {
     "name": "stdout",
     "output_type": "stream",
     "text": [
      "200\n"
     ]
    }
   ],
   "source": [
    "import requests\n",
    "r = requests.get(\"https://example.com\")\n",
    "print(r.status_code)\n",
    "\n",
    "import sys\n",
    "import os\n",
    "# install package direcly in notebook: %pip install requests-html\n",
    "sys.path.append(os.path.abspath(os.path.join(os.getcwd(), \"..\"))) # lägg till training i path"
   ]
  },
  {
   "cell_type": "code",
   "execution_count": 24,
   "id": "742e244c",
   "metadata": {},
   "outputs": [],
   "source": [
    "import pandas as pd\n",
    "from collections import Counter\n",
    "import re\n",
    "\n",
    "def most_frequent_terms(df, column, top_n=10):\n",
    "    \"\"\"\n",
    "    Return the most frequent terms from a text column in a DataFrame.\n",
    "    \n",
    "    Args:\n",
    "        df (pd.DataFrame): Input dataframe.\n",
    "        column (str): Column name containing text.\n",
    "        top_n (int): Number of most frequent terms to return.\n",
    "        \n",
    "    Returns:\n",
    "        pd.DataFrame: DataFrame with term counts.\n",
    "    \"\"\"\n",
    "    # Join all text in column into one big string\n",
    "    text = \" \".join(df[column].astype(str).tolist())\n",
    "    \n",
    "    # Tokenize: lowercase words, only keep a–z characters\n",
    "    tokens = re.findall(r\"\\b[a-zA-ZåäöÅÄÖ]+\\b\", text.lower())\n",
    "    \n",
    "    # Count terms\n",
    "    counter = Counter(tokens)\n",
    "    \n",
    "    # Convert to DataFrame\n",
    "    most_common = counter.most_common(top_n)\n",
    "    return pd.DataFrame(most_common, columns=[\"term\", \"count\"])\n",
    "\n"
   ]
  },
  {
   "cell_type": "code",
   "execution_count": null,
   "id": "56fbe00e",
   "metadata": {},
   "outputs": [
    {
     "data": {
      "text/html": [
       "<div>\n",
       "<style scoped>\n",
       "    .dataframe tbody tr th:only-of-type {\n",
       "        vertical-align: middle;\n",
       "    }\n",
       "\n",
       "    .dataframe tbody tr th {\n",
       "        vertical-align: top;\n",
       "    }\n",
       "\n",
       "    .dataframe thead th {\n",
       "        text-align: right;\n",
       "    }\n",
       "</style>\n",
       "<table border=\"1\" class=\"dataframe\">\n",
       "  <thead>\n",
       "    <tr style=\"text-align: right;\">\n",
       "      <th></th>\n",
       "      <th>site</th>\n",
       "      <th>job_title</th>\n",
       "      <th>ingestion_ts</th>\n",
       "    </tr>\n",
       "  </thead>\n",
       "  <tbody>\n",
       "    <tr>\n",
       "      <th>0</th>\n",
       "      <td>Aliant</td>\n",
       "      <td>Scala-utvecklare</td>\n",
       "      <td>2025-09-15 13:40:39</td>\n",
       "    </tr>\n",
       "    <tr>\n",
       "      <th>1</th>\n",
       "      <td>Aliant</td>\n",
       "      <td>Medior Project Manager</td>\n",
       "      <td>2025-09-15 13:40:39</td>\n",
       "    </tr>\n",
       "    <tr>\n",
       "      <th>2</th>\n",
       "      <td>Aliant</td>\n",
       "      <td>Computer Vision - Android Automotive</td>\n",
       "      <td>2025-09-15 13:40:39</td>\n",
       "    </tr>\n",
       "    <tr>\n",
       "      <th>3</th>\n",
       "      <td>Aliant</td>\n",
       "      <td>Utvecklare - MES-system</td>\n",
       "      <td>2025-09-15 13:40:39</td>\n",
       "    </tr>\n",
       "    <tr>\n",
       "      <th>4</th>\n",
       "      <td>Aliant</td>\n",
       "      <td>Sitecore-utvecklare</td>\n",
       "      <td>2025-09-15 13:40:39</td>\n",
       "    </tr>\n",
       "    <tr>\n",
       "      <th>...</th>\n",
       "      <td>...</td>\n",
       "      <td>...</td>\n",
       "      <td>...</td>\n",
       "    </tr>\n",
       "    <tr>\n",
       "      <th>440</th>\n",
       "      <td>Upgraded</td>\n",
       "      <td>Power Drive System Engineer</td>\n",
       "      <td>2025-09-15 13:53:36</td>\n",
       "    </tr>\n",
       "    <tr>\n",
       "      <th>441</th>\n",
       "      <td>Upgraded</td>\n",
       "      <td>Siebel-utvecklare</td>\n",
       "      <td>2025-09-15 13:53:36</td>\n",
       "    </tr>\n",
       "    <tr>\n",
       "      <th>442</th>\n",
       "      <td>Upgraded</td>\n",
       "      <td>Testare/Testdesigner</td>\n",
       "      <td>2025-09-15 13:53:36</td>\n",
       "    </tr>\n",
       "    <tr>\n",
       "      <th>443</th>\n",
       "      <td>Upgraded</td>\n",
       "      <td>Kravanalytiker</td>\n",
       "      <td>2025-09-15 13:53:36</td>\n",
       "    </tr>\n",
       "    <tr>\n",
       "      <th>444</th>\n",
       "      <td>Upgraded</td>\n",
       "      <td>Lösningsarkitekt inom Apputveckling</td>\n",
       "      <td>2025-09-15 13:53:36</td>\n",
       "    </tr>\n",
       "  </tbody>\n",
       "</table>\n",
       "<p>445 rows × 3 columns</p>\n",
       "</div>"
      ],
      "text/plain": [
       "         site                             job_title         ingestion_ts\n",
       "0      Aliant                      Scala-utvecklare  2025-09-15 13:40:39\n",
       "1      Aliant                Medior Project Manager  2025-09-15 13:40:39\n",
       "2      Aliant  Computer Vision - Android Automotive  2025-09-15 13:40:39\n",
       "3      Aliant               Utvecklare - MES-system  2025-09-15 13:40:39\n",
       "4      Aliant                   Sitecore-utvecklare  2025-09-15 13:40:39\n",
       "..        ...                                   ...                  ...\n",
       "440  Upgraded           Power Drive System Engineer  2025-09-15 13:53:36\n",
       "441  Upgraded                     Siebel-utvecklare  2025-09-15 13:53:36\n",
       "442  Upgraded                  Testare/Testdesigner  2025-09-15 13:53:36\n",
       "443  Upgraded                        Kravanalytiker  2025-09-15 13:53:36\n",
       "444  Upgraded   Lösningsarkitekt inom Apputveckling  2025-09-15 13:53:36\n",
       "\n",
       "[445 rows x 3 columns]"
      ]
     },
     "execution_count": 14,
     "metadata": {},
     "output_type": "execute_result"
    }
   ],
   "source": [
    "import pandas as pd\n",
    "raw_data = pd.read_csv('../data/raw/jobs.csv')\n",
    "#raw_data = raw_data.loc[raw_data['site']=='Aliant']\n",
    "raw_data[['site', 'job_title','ingestion_ts']]"
   ]
  },
  {
   "cell_type": "code",
   "execution_count": 22,
   "id": "84a6134e",
   "metadata": {},
   "outputs": [
    {
     "data": {
      "text/html": [
       "<div>\n",
       "<style scoped>\n",
       "    .dataframe tbody tr th:only-of-type {\n",
       "        vertical-align: middle;\n",
       "    }\n",
       "\n",
       "    .dataframe tbody tr th {\n",
       "        vertical-align: top;\n",
       "    }\n",
       "\n",
       "    .dataframe thead th {\n",
       "        text-align: right;\n",
       "    }\n",
       "</style>\n",
       "<table border=\"1\" class=\"dataframe\">\n",
       "  <thead>\n",
       "    <tr style=\"text-align: right;\">\n",
       "      <th></th>\n",
       "      <th>site</th>\n",
       "      <th>site_id</th>\n",
       "      <th>job_title</th>\n",
       "      <th>raw_payload</th>\n",
       "      <th>ingestion_ts</th>\n",
       "    </tr>\n",
       "  </thead>\n",
       "  <tbody>\n",
       "    <tr>\n",
       "      <th>0</th>\n",
       "      <td>A Society</td>\n",
       "      <td>86</td>\n",
       "      <td>86</td>\n",
       "      <td>86</td>\n",
       "      <td>86</td>\n",
       "    </tr>\n",
       "    <tr>\n",
       "      <th>1</th>\n",
       "      <td>Afry</td>\n",
       "      <td>73</td>\n",
       "      <td>73</td>\n",
       "      <td>73</td>\n",
       "      <td>73</td>\n",
       "    </tr>\n",
       "    <tr>\n",
       "      <th>2</th>\n",
       "      <td>Aliant</td>\n",
       "      <td>6</td>\n",
       "      <td>6</td>\n",
       "      <td>6</td>\n",
       "      <td>6</td>\n",
       "    </tr>\n",
       "    <tr>\n",
       "      <th>3</th>\n",
       "      <td>Combitech</td>\n",
       "      <td>26</td>\n",
       "      <td>26</td>\n",
       "      <td>26</td>\n",
       "      <td>26</td>\n",
       "    </tr>\n",
       "    <tr>\n",
       "      <th>4</th>\n",
       "      <td>Emagine</td>\n",
       "      <td>45</td>\n",
       "      <td>45</td>\n",
       "      <td>45</td>\n",
       "      <td>45</td>\n",
       "    </tr>\n",
       "    <tr>\n",
       "      <th>5</th>\n",
       "      <td>Ework</td>\n",
       "      <td>91</td>\n",
       "      <td>91</td>\n",
       "      <td>91</td>\n",
       "      <td>91</td>\n",
       "    </tr>\n",
       "    <tr>\n",
       "      <th>6</th>\n",
       "      <td>Nikita</td>\n",
       "      <td>17</td>\n",
       "      <td>17</td>\n",
       "      <td>17</td>\n",
       "      <td>17</td>\n",
       "    </tr>\n",
       "    <tr>\n",
       "      <th>7</th>\n",
       "      <td>Regent</td>\n",
       "      <td>25</td>\n",
       "      <td>25</td>\n",
       "      <td>25</td>\n",
       "      <td>25</td>\n",
       "    </tr>\n",
       "    <tr>\n",
       "      <th>8</th>\n",
       "      <td>Upgraded</td>\n",
       "      <td>76</td>\n",
       "      <td>76</td>\n",
       "      <td>76</td>\n",
       "      <td>76</td>\n",
       "    </tr>\n",
       "  </tbody>\n",
       "</table>\n",
       "</div>"
      ],
      "text/plain": [
       "        site  site_id  job_title  raw_payload  ingestion_ts\n",
       "0  A Society       86         86           86            86\n",
       "1       Afry       73         73           73            73\n",
       "2     Aliant        6          6            6             6\n",
       "3  Combitech       26         26           26            26\n",
       "4    Emagine       45         45           45            45\n",
       "5      Ework       91         91           91            91\n",
       "6     Nikita       17         17           17            17\n",
       "7     Regent       25         25           25            25\n",
       "8   Upgraded       76         76           76            76"
      ]
     },
     "execution_count": 22,
     "metadata": {},
     "output_type": "execute_result"
    }
   ],
   "source": [
    "raw_group = raw_data.groupby(by=['site']).count().reset_index()\n",
    "raw_group"
   ]
  },
  {
   "cell_type": "code",
   "execution_count": 25,
   "id": "bbb0079f",
   "metadata": {},
   "outputs": [],
   "source": [
    "df = most_frequent_terms(raw_data, \"job_title\", top_n=100)\n",
    "df.to_csv('most_frequent.csv')"
   ]
  },
  {
   "cell_type": "markdown",
   "id": "ef754407",
   "metadata": {},
   "source": [
    "# Afry"
   ]
  },
  {
   "cell_type": "code",
   "execution_count": 45,
   "id": "a360b4b7",
   "metadata": {},
   "outputs": [
    {
     "name": "stdout",
     "output_type": "stream",
     "text": [
      "Afry > Response: 200\n",
      "Afry > Nmr of scraped adds: 74\n",
      "Afry > Unloading data to ../data/raw/jobs.csv. Nmr of new added jobs:1\n",
      "Afry > Loading last scraped jobs, nr: 1\n",
      "Afry > Parsing bronze data: 1\n",
      "Afry > Unloading data to ../data/bronze/jobs.csv. Nmr of new added jobs:1\n"
     ]
    }
   ],
   "source": [
    "import sys\n",
    "import os\n",
    "sys.path.append(os.path.abspath(os.path.join(os.getcwd(), \"..\"))) # lägg till training i path\n",
    "\n",
    "from src.afry_scraper import AfryScraper\n",
    "s = AfryScraper()\n",
    "\n",
    "response = s.request_status()\n",
    "job_posts = s.return_raw_job_posts_data(response)\n",
    "scraped_raw_data = s.parse_raw_data(job_posts)\n",
    "old_raw_data = s.read_stored_raw_data()\n",
    "\n",
    "new_raw_data = s.return_new_rows(new_data=scraped_raw_data, old_data=old_raw_data)\n",
    "s.unload_data(file_path = \"../data/raw/jobs.csv\", new_data = new_raw_data)\n",
    "\n",
    "new_raw_data = s.load_last_added_raw_data()\n",
    "new_bronze_data = s.parse_bronze_data(new_raw_data)\n",
    "s.unload_data(file_path=\"../data/bronze/jobs.csv\", new_data=new_bronze_data)"
   ]
  },
  {
   "cell_type": "markdown",
   "id": "0c43f825",
   "metadata": {},
   "source": [
    "# Aliant"
   ]
  },
  {
   "cell_type": "code",
   "execution_count": 46,
   "id": "b2738342",
   "metadata": {},
   "outputs": [
    {
     "name": "stdout",
     "output_type": "stream",
     "text": [
      "Aliant > Response: 200\n",
      "Aliant > Nmr of scraped adds: 7\n",
      "Aliant > Unloading data to ../data/raw/jobs.csv. Nmr of new added jobs:1\n",
      "Aliant > Loading last scraped jobs, nr: 1\n",
      "Aliant > Parsing bronze data: 1\n",
      "Aliant > Unloading data to ../data/bronze/jobs.csv. Nmr of new added jobs:1\n"
     ]
    }
   ],
   "source": [
    "import sys\n",
    "import os\n",
    "import pandas as pd\n",
    "sys.path.append(os.path.abspath(os.path.join(os.getcwd(), \"..\"))) # lägg till training i path\n",
    "\n",
    "from src.aliant_scraper import AliantScraper\n",
    "s = AliantScraper()\n",
    "\n",
    "response = s.request_status()\n",
    "job_posts = s.return_raw_job_posts_data(response)\n",
    "scraped_raw_data = s.parse_raw_data(job_posts)\n",
    "old_raw_data = s.read_stored_raw_data()\n",
    "\n",
    "new_raw_data = s.return_new_rows(new_data=scraped_raw_data, old_data=old_raw_data)\n",
    "s.unload_data(file_path = \"../data/raw/jobs.csv\", new_data = new_raw_data)\n",
    "\n",
    "new_raw_data = s.load_last_added_raw_data()\n",
    "new_bronze_data = s.parse_bronze_data(new_raw_data)\n",
    "s.unload_data(file_path=\"../data/bronze/jobs.csv\", new_data=new_bronze_data)\n",
    "\n",
    "\n"
   ]
  },
  {
   "cell_type": "markdown",
   "id": "9de53a36",
   "metadata": {},
   "source": [
    "# Asociety"
   ]
  },
  {
   "cell_type": "code",
   "execution_count": 47,
   "id": "03886cbc",
   "metadata": {},
   "outputs": [
    {
     "name": "stdout",
     "output_type": "stream",
     "text": [
      "A Society > Response: 200\n",
      "A Society > Nmr of scraped adds: 90\n",
      "A Society > Unloading data to ../data/raw/jobs.csv. Nmr of new added jobs:4\n",
      "A Society > Loading last scraped jobs, nr: 4\n",
      "A Society > Parsing bronze data: 4\n",
      "A Society > Unloading data to ../data/bronze/jobs.csv. Nmr of new added jobs:4\n"
     ]
    }
   ],
   "source": [
    "import sys\n",
    "import os\n",
    "sys.path.append(os.path.abspath(os.path.join(os.getcwd(), \"..\"))) # lägg till training i path\n",
    "\n",
    "from src.asociety_scraper import ASocietyScraper\n",
    "s = ASocietyScraper()\n",
    "\n",
    "response = s.request_status()\n",
    "job_posts = s.return_raw_job_posts_data(response)\n",
    "scraped_raw_data = s.parse_raw_data(job_posts)\n",
    "old_raw_data = s.read_stored_raw_data()\n",
    "\n",
    "new_raw_data = s.return_new_rows(new_data=scraped_raw_data, old_data=old_raw_data)\n",
    "s.unload_data(file_path = \"../data/raw/jobs.csv\", new_data = new_raw_data)\n",
    "\n",
    "new_raw_data = s.load_last_added_raw_data()\n",
    "new_bronze_data = s.parse_bronze_data(new_raw_data)\n",
    "s.unload_data(file_path=\"../data/bronze/jobs.csv\", new_data=new_bronze_data)"
   ]
  },
  {
   "cell_type": "markdown",
   "id": "6f997fee",
   "metadata": {},
   "source": [
    "# Combitech"
   ]
  },
  {
   "cell_type": "code",
   "execution_count": 48,
   "id": "80dd86c2",
   "metadata": {},
   "outputs": [
    {
     "name": "stdout",
     "output_type": "stream",
     "text": [
      "Combitech > Response: 200\n",
      "Combitech > Nmr of scraped adds: 28\n",
      "Combitech > Unloading data to ../data/raw/jobs.csv. Nmr of new added jobs:0\n",
      "Combitech > Loading last scraped jobs, nr: 0\n",
      "Combitech > Parsing bronze data: 0\n",
      "Combitech > Unloading data to ../data/bronze/jobs.csv. Nmr of new added jobs:0\n"
     ]
    }
   ],
   "source": [
    "import sys\n",
    "import os\n",
    "sys.path.append(os.path.abspath(os.path.join(os.getcwd(), \"..\"))) # lägg till training i path\n",
    "\n",
    "from src.combitech_scraper import CombitechScraper\n",
    "s = CombitechScraper()\n",
    "\n",
    "response = s.request_status()\n",
    "job_posts = s.return_raw_job_posts_data(response)\n",
    "scraped_raw_data = s.parse_raw_data(job_posts)\n",
    "old_raw_data = s.read_stored_raw_data()\n",
    "\n",
    "new_raw_data = s.return_new_rows(new_data=scraped_raw_data, old_data=old_raw_data)\n",
    "s.unload_data(file_path = \"../data/raw/jobs.csv\", new_data = new_raw_data)\n",
    "\n",
    "new_raw_data = s.load_last_added_raw_data()\n",
    "new_bronze_data = s.parse_bronze_data(new_raw_data)\n",
    "s.unload_data(file_path=\"../data/bronze/jobs.csv\", new_data=new_bronze_data)\n"
   ]
  },
  {
   "cell_type": "markdown",
   "id": "fb2477b1",
   "metadata": {},
   "source": [
    "# Emagine"
   ]
  },
  {
   "cell_type": "code",
   "execution_count": 49,
   "id": "a7cf0068",
   "metadata": {},
   "outputs": [
    {
     "name": "stdout",
     "output_type": "stream",
     "text": [
      "Emagine > Response: 200\n",
      "Emagine > Nmr of scraped adds: 44\n",
      "Emagine > Unloading data to ../data/raw/jobs.csv. Nmr of new added jobs:1\n",
      "Emagine > Loading last scraped jobs, nr: 1\n",
      "Emagine > Parsing bronze data: 1\n",
      "Emagine > Unloading data to ../data/bronze/jobs.csv. Nmr of new added jobs:1\n"
     ]
    }
   ],
   "source": [
    "import sys\n",
    "import os\n",
    "sys.path.append(os.path.abspath(os.path.join(os.getcwd(), \"..\"))) # lägg till training i path\n",
    "\n",
    "from src.emagine_scraper import EmagineScraper\n",
    "s = EmagineScraper()\n",
    "\n",
    "response = s.request_status()\n",
    "job_posts = s.return_raw_job_posts_data(response)\n",
    "scraped_raw_data = s.parse_raw_data(job_posts)\n",
    "old_raw_data = s.read_stored_raw_data()\n",
    "\n",
    "new_raw_data = s.return_new_rows(new_data=scraped_raw_data, old_data=old_raw_data)\n",
    "s.unload_data(file_path = \"../data/raw/jobs.csv\", new_data = new_raw_data)\n",
    "\n",
    "new_raw_data = s.load_last_added_raw_data()\n",
    "new_bronze_data = s.parse_bronze_data(new_raw_data)\n",
    "s.unload_data(file_path=\"../data/bronze/jobs.csv\", new_data=new_bronze_data)"
   ]
  },
  {
   "cell_type": "markdown",
   "id": "0b478e0c",
   "metadata": {},
   "source": [
    "# Ework"
   ]
  },
  {
   "cell_type": "code",
   "execution_count": 50,
   "id": "fc5c15ae",
   "metadata": {},
   "outputs": [
    {
     "name": "stdout",
     "output_type": "stream",
     "text": [
      "Ework > Response: 200\n",
      "Ework > Nmr of scraped adds: 95\n",
      "Ework > Unloading data to ../data/raw/jobs.csv. Nmr of new added jobs:3\n",
      "Ework > Loading last scraped jobs, nr: 3\n",
      "Ework > Parsing bronze data: 3\n",
      "Ework > Unloading data to ../data/bronze/jobs.csv. Nmr of new added jobs:3\n"
     ]
    }
   ],
   "source": [
    "import sys\n",
    "import os\n",
    "sys.path.append(os.path.abspath(os.path.join(os.getcwd(), \"..\"))) # lägg till training i path\n",
    "\n",
    "from src.ework_scraper import EworkScraper\n",
    "s = EworkScraper()\n",
    "\n",
    "response = s.request_status()\n",
    "job_posts = s.return_raw_job_posts_data(response)\n",
    "scraped_raw_data = s.parse_raw_data(job_posts)\n",
    "old_raw_data = s.read_stored_raw_data()\n",
    "\n",
    "new_raw_data = s.return_new_rows(new_data=scraped_raw_data, old_data=old_raw_data)\n",
    "s.unload_data(file_path = \"../data/raw/jobs.csv\", new_data = new_raw_data)\n",
    "\n",
    "new_raw_data = s.load_last_added_raw_data()\n",
    "new_bronze_data = s.parse_bronze_data(new_raw_data)\n",
    "s.unload_data(file_path=\"../data/bronze/jobs.csv\", new_data=new_bronze_data)"
   ]
  },
  {
   "cell_type": "markdown",
   "id": "41544094",
   "metadata": {},
   "source": [
    "# Levigo \n",
    "(Inga uppdrag ute)"
   ]
  },
  {
   "cell_type": "markdown",
   "id": "9d618eb0",
   "metadata": {},
   "source": [
    "# Nikita \n",
    "Hemsida som renderar innehållet via JavaScript efter att själva HTML:en har laddats. I detta fall hittar man inte hittar uppdragen i Fetch/XHR i nätverksinspektionen – själva jobblistan hämtas inte via ett öppet API som returnerar JSON, utan genereras dynamiskt i webbläsaren."
   ]
  },
  {
   "cell_type": "code",
   "execution_count": 51,
   "id": "6755ecb2",
   "metadata": {},
   "outputs": [
    {
     "name": "stdout",
     "output_type": "stream",
     "text": [
      "Nikita > Response: 200\n",
      "Nikita > Nmr of scraped adds: 18\n",
      "Nikita > Unloading data to ../data/raw/jobs.csv. Nmr of new added jobs:0\n",
      "Nikita > Loading last scraped jobs, nr: 0\n",
      "Nikita > Parsing bronze data: 0\n",
      "Nikita > Unloading data to ../data/bronze/jobs.csv. Nmr of new added jobs:0\n"
     ]
    }
   ],
   "source": [
    "import sys\n",
    "import os\n",
    "sys.path.append(os.path.abspath(os.path.join(os.getcwd(), \"..\"))) # lägg till training i path\n",
    "\n",
    "from src.nikita_scraper import NikitaScraper\n",
    "s = NikitaScraper()\n",
    "\n",
    "response = s.request_status()\n",
    "job_posts = s.return_raw_job_posts_data(response)\n",
    "scraped_raw_data = s.parse_raw_data(job_posts)\n",
    "old_raw_data = s.read_stored_raw_data()\n",
    "\n",
    "new_raw_data = s.return_new_rows(new_data=scraped_raw_data, old_data=old_raw_data)\n",
    "s.unload_data(file_path = \"../data/raw/jobs.csv\", new_data = new_raw_data)\n",
    "\n",
    "new_raw_data = s.load_last_added_raw_data()\n",
    "new_bronze_data = s.parse_bronze_data(new_raw_data)\n",
    "s.unload_data(file_path=\"../data/bronze/jobs.csv\", new_data=new_bronze_data)"
   ]
  },
  {
   "cell_type": "markdown",
   "id": "f0d4bddc",
   "metadata": {},
   "source": [
    "# Regent"
   ]
  },
  {
   "cell_type": "code",
   "execution_count": 52,
   "id": "d1b6a3c0",
   "metadata": {},
   "outputs": [
    {
     "name": "stdout",
     "output_type": "stream",
     "text": [
      "Regent > Response: 200\n",
      "Regent > Nmr of scraped adds: 26\n",
      "Regent > Unloading data to ../data/raw/jobs.csv. Nmr of new added jobs:0\n",
      "Regent > Loading last scraped jobs, nr: 0\n",
      "Regent > Parsing bronze data: 0\n",
      "Regent > Unloading data to ../data/bronze/jobs.csv. Nmr of new added jobs:0\n"
     ]
    }
   ],
   "source": [
    "import sys\n",
    "import os\n",
    "sys.path.append(os.path.abspath(os.path.join(os.getcwd(), \"..\"))) # lägg till training i path\n",
    "\n",
    "from src.regent_scraper import RegentScraper\n",
    "s = RegentScraper()\n",
    "\n",
    "response = s.request_status()\n",
    "job_posts = s.return_raw_job_posts_data(response)\n",
    "scraped_raw_data = s.parse_raw_data(job_posts)\n",
    "old_raw_data = s.read_stored_raw_data()\n",
    "\n",
    "new_raw_data = s.return_new_rows(new_data=scraped_raw_data, old_data=old_raw_data)\n",
    "s.unload_data(file_path = \"../data/raw/jobs.csv\", new_data = new_raw_data)\n",
    "\n",
    "new_raw_data = s.load_last_added_raw_data()\n",
    "new_bronze_data = s.parse_bronze_data(new_raw_data)\n",
    "s.unload_data(file_path=\"../data/bronze/jobs.csv\", new_data=new_bronze_data)\n"
   ]
  },
  {
   "cell_type": "markdown",
   "id": "2c9aa324",
   "metadata": {},
   "source": [
    "# Updraged "
   ]
  },
  {
   "cell_type": "code",
   "execution_count": 53,
   "id": "376d185f",
   "metadata": {},
   "outputs": [
    {
     "name": "stdout",
     "output_type": "stream",
     "text": [
      "Upgraded > Status code: 200\n",
      "Upgraded > Nmr of scraped adds: 81\n",
      "Upgraded > Unloading data to ../data/raw/jobs.csv. Nmr of new added jobs:2\n",
      "Upgraded > Loading last scraped jobs, nr: 2\n",
      "Upgraded > Parsing bronze data: 2\n",
      "Upgraded > Unloading data to ../data/bronze/jobs.csv. Nmr of new added jobs:2\n"
     ]
    }
   ],
   "source": [
    "import sys\n",
    "import os\n",
    "sys.path.append(os.path.abspath(os.path.join(os.getcwd(), \"..\"))) # lägg till training i path\n",
    "\n",
    "from src.upgraded_scraper import UpgradedScraper\n",
    "s = UpgradedScraper()\n",
    "\n",
    "response = await s.request_status()\n",
    "job_posts = s.return_raw_job_posts_data(response)\n",
    "scraped_raw_data = s.parse_raw_data(job_posts)\n",
    "old_raw_data = s.read_stored_raw_data()\n",
    "\n",
    "new_raw_data = s.return_new_rows(new_data=scraped_raw_data, old_data=old_raw_data)\n",
    "s.unload_data(file_path = \"../data/raw/jobs.csv\", new_data = new_raw_data)\n",
    "\n",
    "new_raw_data = s.load_last_added_raw_data()\n",
    "new_bronze_data = s.parse_bronze_data(new_raw_data)\n",
    "s.unload_data(file_path=\"../data/bronze/jobs.csv\", new_data=new_bronze_data)"
   ]
  },
  {
   "cell_type": "markdown",
   "id": "76dfcd43",
   "metadata": {},
   "source": [
    "# Bronze table "
   ]
  },
  {
   "cell_type": "code",
   "execution_count": 56,
   "id": "008c614d",
   "metadata": {},
   "outputs": [],
   "source": [
    "import pandas as pd\n",
    "import pandas as pd\n",
    "bronze_data = pd.read_csv('../data/bronze/jobs.csv')\n",
    "new_ads = bronze_data[['site', 'job_title', 'work_location','ingestion_ts', 'link']].sort_values(by='ingestion_ts', ascending=False)\n",
    "new_ads.to_csv('new_ads.csv')\n"
   ]
  }
 ],
 "metadata": {
  "kernelspec": {
   "display_name": "Python (myproject)",
   "language": "python",
   "name": "myproject"
  },
  "language_info": {
   "codemirror_mode": {
    "name": "ipython",
    "version": 3
   },
   "file_extension": ".py",
   "mimetype": "text/x-python",
   "name": "python",
   "nbconvert_exporter": "python",
   "pygments_lexer": "ipython3",
   "version": "3.13.7"
  }
 },
 "nbformat": 4,
 "nbformat_minor": 5
}
